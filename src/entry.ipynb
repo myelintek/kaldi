{
 "cells": [
  {
   "cell_type": "markdown",
   "metadata": {},
   "source": [
    "# Copy our dataset to Kaldi egs dir"
   ]
  },
  {
   "cell_type": "code",
   "execution_count": 3,
   "metadata": {},
   "outputs": [],
   "source": [
    "our_dataset_dir = \"../data/kaldi-for-dummies\"\n",
    "kaldi_egs_dir = \"../data/kaldi/egs\""
   ]
  },
  {
   "cell_type": "code",
   "execution_count": 4,
   "metadata": {},
   "outputs": [],
   "source": [
    "!cp -R $our_dataset_dir $kaldi_egs_dir"
   ]
  },
  {
   "cell_type": "code",
   "execution_count": 5,
   "metadata": {},
   "outputs": [],
   "source": [
    "work_dir = kaldi_egs_dir + \"/kaldi-for-dummies\""
   ]
  },
  {
   "cell_type": "code",
   "execution_count": 6,
   "metadata": {},
   "outputs": [],
   "source": [
    "import os\n",
    "try:\n",
    "    os.chdir(work_dir)\n",
    "except Exception as e:\n",
    "    print(e, \"Run only once\")"
   ]
  },
  {
   "cell_type": "code",
   "execution_count": 7,
   "metadata": {},
   "outputs": [
    {
     "name": "stdout",
     "output_type": "stream",
     "text": [
      "cmd.sh\tdata\t      exp    mfcc     run.sh\t steps\n",
      "conf\tdigits_audio  local  path.sh  script.sh  utils\n"
     ]
    }
   ],
   "source": [
    "!ls"
   ]
  },
  {
   "cell_type": "code",
   "execution_count": 8,
   "metadata": {},
   "outputs": [],
   "source": [
    "!chmod 755 -R *"
   ]
  },
  {
   "cell_type": "markdown",
   "metadata": {},
   "source": [
    "# Start Training"
   ]
  },
  {
   "cell_type": "code",
   "execution_count": 11,
   "metadata": {
    "scrolled": true
   },
   "outputs": [
    {
     "name": "stdout",
     "output_type": "stream",
     "text": [
      "\n",
      "===== PREPARING ACOUSTIC DATA =====\n",
      "\n",
      "\n",
      "===== FEATURES EXTRACTION =====\n",
      "\n",
      "steps/make_mfcc.sh --nj 1 --cmd utils/run.pl data/train exp/make_mfcc/train mfcc\n",
      "utils/validate_data_dir.sh: Successfully validated data-directory data/train\n",
      "steps/make_mfcc.sh: [info]: no segments file exists: assuming wav.scp indexed by utterance.\n",
      "run.pl: job failed, log is in exp/make_mfcc/train/make_mfcc_train.1.log\n",
      "steps/make_mfcc.sh --nj 1 --cmd utils/run.pl data/test exp/make_mfcc/test mfcc\n",
      "utils/validate_data_dir.sh: Successfully validated data-directory data/test\n",
      "steps/make_mfcc.sh: [info]: no segments file exists: assuming wav.scp indexed by utterance.\n",
      "run.pl: job failed, log is in exp/make_mfcc/test/make_mfcc_test.1.log\n",
      "steps/compute_cmvn_stats.sh data/train exp/make_mfcc/train mfcc\n",
      "make_cmvn.sh: no such file data/train/feats.scp\n",
      "steps/compute_cmvn_stats.sh data/test exp/make_mfcc/test mfcc\n",
      "make_cmvn.sh: no such file data/test/feats.scp\n",
      "\n",
      "===== PREPARING LANGUAGE DATA =====\n",
      "\n",
      "utils/prepare_lang.sh data/local/dict <UNK> data/local/lang data/lang\n",
      "Checking data/local/dict/silence_phones.txt ...\n",
      "--> reading data/local/dict/silence_phones.txt\n",
      "--> text seems to be UTF-8 or ASCII, checking whitespaces\n",
      "--> text contains only allowed whitespaces\n",
      "--> data/local/dict/silence_phones.txt is OK\n",
      "\n",
      "Checking data/local/dict/optional_silence.txt ...\n",
      "--> reading data/local/dict/optional_silence.txt\n",
      "--> text seems to be UTF-8 or ASCII, checking whitespaces\n",
      "--> text contains only allowed whitespaces\n",
      "--> data/local/dict/optional_silence.txt is OK\n",
      "\n",
      "Checking data/local/dict/nonsilence_phones.txt ...\n",
      "--> reading data/local/dict/nonsilence_phones.txt\n",
      "--> text seems to be UTF-8 or ASCII, checking whitespaces\n",
      "--> text contains only allowed whitespaces\n",
      "--> data/local/dict/nonsilence_phones.txt is OK\n",
      "\n",
      "Checking disjoint: silence_phones.txt, nonsilence_phones.txt\n",
      "--> disjoint property is OK.\n",
      "\n",
      "Checking data/local/dict/lexicon.txt\n",
      "--> reading data/local/dict/lexicon.txt\n",
      "--> text seems to be UTF-8 or ASCII, checking whitespaces\n",
      "--> text contains only allowed whitespaces\n",
      "--> data/local/dict/lexicon.txt is OK\n",
      "\n",
      "Checking data/local/dict/extra_questions.txt ...\n",
      "--> data/local/dict/extra_questions.txt is empty (this is OK)\n",
      "--> SUCCESS [validating dictionary directory data/local/dict]\n",
      "\n",
      "**Creating data/local/dict/lexiconp.txt from data/local/dict/lexicon.txt\n",
      "utils/prepare_lang.sh: line 502: fstaddselfloops: command not found\n",
      "ERROR: FstHeader::Read: Bad FST header: standard input\n",
      "ERROR: VectorFst::Write: Write failed: standard output\n",
      "\n",
      "===== LANGUAGE MODEL CREATION =====\n",
      "===== MAKING lm.arpa =====\n",
      "\n",
      "Using SRILM language modelling tool from /mlsteam/data/kaldi/egs/kaldi-for-dummies/../../tools/srilm/bin/i686-m64\n",
      "\n",
      "===== MAKING G.fst =====\n",
      "\n",
      "./run.sh: line 82: arpa2fst: command not found\n",
      "\n",
      "===== MONO TRAINING =====\n",
      "\n",
      "steps/train_mono.sh --nj 1 --cmd utils/run.pl data/train data/lang exp/mono\n",
      "steps/train_mono.sh: Initializing monophone system.\n",
      "steps/train_mono.sh: line 71: feat-to-dim: command not found\n",
      "error getting feature dimension\n"
     ]
    }
   ],
   "source": [
    "!./run.sh"
   ]
  },
  {
   "cell_type": "markdown",
   "metadata": {},
   "source": [
    "# Testing"
   ]
  },
  {
   "cell_type": "code",
   "execution_count": 13,
   "metadata": {},
   "outputs": [
    {
     "ename": "FileNotFoundError",
     "evalue": "[Errno 2] No such file or directory: 'exp/tri1/decode/log/decode.1.log'",
     "output_type": "error",
     "traceback": [
      "\u001b[0;31m---------------------------------------------------------------------------\u001b[0m",
      "\u001b[0;31mFileNotFoundError\u001b[0m                         Traceback (most recent call last)",
      "\u001b[0;32m<ipython-input-13-6eb322d97c02>\u001b[0m in \u001b[0;36m<module>\u001b[0;34m\u001b[0m\n\u001b[0;32m----> 1\u001b[0;31m \u001b[0mf\u001b[0m \u001b[0;34m=\u001b[0m \u001b[0mopen\u001b[0m\u001b[0;34m(\u001b[0m\u001b[0;34m\"exp/tri1/decode/log/decode.1.log\"\u001b[0m\u001b[0;34m,\u001b[0m \u001b[0;34m\"r\"\u001b[0m\u001b[0;34m)\u001b[0m\u001b[0;34m\u001b[0m\u001b[0;34m\u001b[0m\u001b[0m\n\u001b[0m\u001b[1;32m      2\u001b[0m \u001b[0;32mfor\u001b[0m \u001b[0mline\u001b[0m \u001b[0;32min\u001b[0m \u001b[0mf\u001b[0m\u001b[0;34m.\u001b[0m\u001b[0mread\u001b[0m\u001b[0;34m(\u001b[0m\u001b[0;34m)\u001b[0m\u001b[0;34m.\u001b[0m\u001b[0msplitlines\u001b[0m\u001b[0;34m(\u001b[0m\u001b[0;34m)\u001b[0m\u001b[0;34m:\u001b[0m\u001b[0;34m\u001b[0m\u001b[0;34m\u001b[0m\u001b[0m\n\u001b[1;32m      3\u001b[0m     \u001b[0;32mif\u001b[0m \u001b[0;34m\"jackson_4_2\"\u001b[0m \u001b[0;32min\u001b[0m \u001b[0mline\u001b[0m\u001b[0;34m:\u001b[0m\u001b[0;34m\u001b[0m\u001b[0;34m\u001b[0m\u001b[0m\n\u001b[1;32m      4\u001b[0m         \u001b[0mprint\u001b[0m\u001b[0;34m(\u001b[0m\u001b[0mline\u001b[0m\u001b[0;34m.\u001b[0m\u001b[0msplit\u001b[0m\u001b[0;34m(\u001b[0m\u001b[0;34m\" \"\u001b[0m\u001b[0;34m)\u001b[0m\u001b[0;34m[\u001b[0m\u001b[0;36m1\u001b[0m\u001b[0;34m]\u001b[0m\u001b[0;34m)\u001b[0m\u001b[0;34m\u001b[0m\u001b[0;34m\u001b[0m\u001b[0m\n\u001b[1;32m      5\u001b[0m         \u001b[0;32mbreak\u001b[0m\u001b[0;34m\u001b[0m\u001b[0;34m\u001b[0m\u001b[0m\n",
      "\u001b[0;31mFileNotFoundError\u001b[0m: [Errno 2] No such file or directory: 'exp/tri1/decode/log/decode.1.log'"
     ]
    }
   ],
   "source": [
    "# f = open(\"exp/tri1/decode/log/decode.1.log\", \"r\")\n",
    "# for line in f.read().splitlines():\n",
    "#     if \"jackson_4_2\" in line:\n",
    "#         print(line.split(\" \")[1])\n",
    "#         break"
   ]
  },
  {
   "cell_type": "code",
   "execution_count": null,
   "metadata": {},
   "outputs": [],
   "source": []
  }
 ],
 "metadata": {
  "kernelspec": {
   "display_name": "Python 3",
   "language": "python",
   "name": "python3"
  },
  "language_info": {
   "codemirror_mode": {
    "name": "ipython",
    "version": 3
   },
   "file_extension": ".py",
   "mimetype": "text/x-python",
   "name": "python",
   "nbconvert_exporter": "python",
   "pygments_lexer": "ipython3",
   "version": "3.7.3"
  }
 },
 "nbformat": 4,
 "nbformat_minor": 4
}
