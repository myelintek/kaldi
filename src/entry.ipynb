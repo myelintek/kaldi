{
 "cells": [
  {
   "cell_type": "markdown",
   "metadata": {},
   "source": [
    "# Copy our dataset to Kaldi egs dir"
   ]
  },
  {
   "cell_type": "code",
   "execution_count": 3,
   "metadata": {},
   "outputs": [],
   "source": [
    "our_dataset_dir = \"../data/kaldi-for-dummies\"\n",
    "kaldi_egs_dir = \"../data/kaldi/egs\""
   ]
  },
  {
   "cell_type": "code",
   "execution_count": 4,
   "metadata": {},
   "outputs": [],
   "source": [
    "!cp -R $our_dataset_dir $kaldi_egs_dir"
   ]
  },
  {
   "cell_type": "code",
   "execution_count": 5,
   "metadata": {},
   "outputs": [],
   "source": [
    "work_dir = kaldi_egs_dir + \"/kaldi-for-dummies\""
   ]
  },
  {
   "cell_type": "code",
   "execution_count": 6,
   "metadata": {},
   "outputs": [],
   "source": [
    "import os\n",
    "try:\n",
    "    os.chdir(work_dir)\n",
    "except Exception as e:\n",
    "    print(e, \"Run only once\")"
   ]
  },
  {
   "cell_type": "code",
   "execution_count": 7,
   "metadata": {},
   "outputs": [
    {
     "name": "stdout",
     "output_type": "stream",
     "text": [
      "cmd.sh\tdata\t      exp    mfcc     run.sh\t steps\n",
      "conf\tdigits_audio  local  path.sh  script.sh  utils\n"
     ]
    }
   ],
   "source": [
    "!ls"
   ]
  },
  {
   "cell_type": "code",
   "execution_count": 8,
   "metadata": {},
   "outputs": [],
   "source": [
    "!chmod 755 -R *"
   ]
  },
  {
   "cell_type": "code",
   "execution_count": 9,
   "metadata": {},
   "outputs": [],
   "source": [
    "import IPython.display as ipd"
   ]
  },
  {
   "cell_type": "markdown",
   "metadata": {},
   "source": [
    "# Start Training"
   ]
  },
  {
   "cell_type": "code",
   "execution_count": 11,
   "metadata": {
    "scrolled": true
   },
   "outputs": [
    {
     "name": "stdout",
     "output_type": "stream",
     "text": [
      "\n",
      "===== PREPARING ACOUSTIC DATA =====\n",
      "\n",
      "\n",
      "===== FEATURES EXTRACTION =====\n",
      "\n",
      "steps/make_mfcc.sh --nj 1 --cmd utils/run.pl data/train exp/make_mfcc/train mfcc\n",
      "utils/validate_data_dir.sh: Successfully validated data-directory data/train\n",
      "steps/make_mfcc.sh: [info]: no segments file exists: assuming wav.scp indexed by utterance.\n",
      "run.pl: job failed, log is in exp/make_mfcc/train/make_mfcc_train.1.log\n",
      "steps/make_mfcc.sh --nj 1 --cmd utils/run.pl data/test exp/make_mfcc/test mfcc\n",
      "utils/validate_data_dir.sh: Successfully validated data-directory data/test\n",
      "steps/make_mfcc.sh: [info]: no segments file exists: assuming wav.scp indexed by utterance.\n",
      "run.pl: job failed, log is in exp/make_mfcc/test/make_mfcc_test.1.log\n",
      "steps/compute_cmvn_stats.sh data/train exp/make_mfcc/train mfcc\n",
      "make_cmvn.sh: no such file data/train/feats.scp\n",
      "steps/compute_cmvn_stats.sh data/test exp/make_mfcc/test mfcc\n",
      "make_cmvn.sh: no such file data/test/feats.scp\n",
      "\n",
      "===== PREPARING LANGUAGE DATA =====\n",
      "\n",
      "utils/prepare_lang.sh data/local/dict <UNK> data/local/lang data/lang\n",
      "Checking data/local/dict/silence_phones.txt ...\n",
      "--> reading data/local/dict/silence_phones.txt\n",
      "--> text seems to be UTF-8 or ASCII, checking whitespaces\n",
      "--> text contains only allowed whitespaces\n",
      "--> data/local/dict/silence_phones.txt is OK\n",
      "\n",
      "Checking data/local/dict/optional_silence.txt ...\n",
      "--> reading data/local/dict/optional_silence.txt\n",
      "--> text seems to be UTF-8 or ASCII, checking whitespaces\n",
      "--> text contains only allowed whitespaces\n",
      "--> data/local/dict/optional_silence.txt is OK\n",
      "\n",
      "Checking data/local/dict/nonsilence_phones.txt ...\n",
      "--> reading data/local/dict/nonsilence_phones.txt\n",
      "--> text seems to be UTF-8 or ASCII, checking whitespaces\n",
      "--> text contains only allowed whitespaces\n",
      "--> data/local/dict/nonsilence_phones.txt is OK\n",
      "\n",
      "Checking disjoint: silence_phones.txt, nonsilence_phones.txt\n",
      "--> disjoint property is OK.\n",
      "\n",
      "Checking data/local/dict/lexicon.txt\n",
      "--> reading data/local/dict/lexicon.txt\n",
      "--> text seems to be UTF-8 or ASCII, checking whitespaces\n",
      "--> text contains only allowed whitespaces\n",
      "--> data/local/dict/lexicon.txt is OK\n",
      "\n",
      "Checking data/local/dict/extra_questions.txt ...\n",
      "--> data/local/dict/extra_questions.txt is empty (this is OK)\n",
      "--> SUCCESS [validating dictionary directory data/local/dict]\n",
      "\n",
      "**Creating data/local/dict/lexiconp.txt from data/local/dict/lexicon.txt\n",
      "utils/prepare_lang.sh: line 502: fstaddselfloops: command not found\n",
      "ERROR: FstHeader::Read: Bad FST header: standard input\n",
      "ERROR: VectorFst::Write: Write failed: standard output\n",
      "\n",
      "===== LANGUAGE MODEL CREATION =====\n",
      "===== MAKING lm.arpa =====\n",
      "\n",
      "Using SRILM language modelling tool from /mlsteam/data/kaldi/egs/kaldi-for-dummies/../../tools/srilm/bin/i686-m64\n",
      "\n",
      "===== MAKING G.fst =====\n",
      "\n",
      "./run.sh: line 82: arpa2fst: command not found\n",
      "\n",
      "===== MONO TRAINING =====\n",
      "\n",
      "steps/train_mono.sh --nj 1 --cmd utils/run.pl data/train data/lang exp/mono\n",
      "steps/train_mono.sh: Initializing monophone system.\n",
      "steps/train_mono.sh: line 71: feat-to-dim: command not found\n",
      "error getting feature dimension\n"
     ]
    }
   ],
   "source": [
    "!./run.sh"
   ]
  },
  {
   "cell_type": "markdown",
   "metadata": {},
   "source": [
    "# Testing"
   ]
  },
  {
   "cell_type": "code",
   "execution_count": 12,
   "metadata": {},
   "outputs": [
    {
     "data": {
      "text/html": [
       "\n",
       "                <audio  controls=\"controls\" >\n",
       "                    <source src=\"data:audio/x-wav;base64,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\" type=\"audio/x-wav\" />\n",
       "                    Your browser does not support the audio element.\n",
       "                </audio>\n",
       "              "
      ],
      "text/plain": [
       "<IPython.lib.display.Audio object>"
      ]
     },
     "execution_count": 12,
     "metadata": {},
     "output_type": "execute_result"
    }
   ],
   "source": [
    "ipd.Audio('digits_audio/test/jackson_4/2.wav')"
   ]
  },
  {
   "cell_type": "code",
   "execution_count": 13,
   "metadata": {},
   "outputs": [
    {
     "ename": "FileNotFoundError",
     "evalue": "[Errno 2] No such file or directory: 'exp/tri1/decode/log/decode.1.log'",
     "output_type": "error",
     "traceback": [
      "\u001b[0;31m---------------------------------------------------------------------------\u001b[0m",
      "\u001b[0;31mFileNotFoundError\u001b[0m                         Traceback (most recent call last)",
      "\u001b[0;32m<ipython-input-13-6eb322d97c02>\u001b[0m in \u001b[0;36m<module>\u001b[0;34m\u001b[0m\n\u001b[0;32m----> 1\u001b[0;31m \u001b[0mf\u001b[0m \u001b[0;34m=\u001b[0m \u001b[0mopen\u001b[0m\u001b[0;34m(\u001b[0m\u001b[0;34m\"exp/tri1/decode/log/decode.1.log\"\u001b[0m\u001b[0;34m,\u001b[0m \u001b[0;34m\"r\"\u001b[0m\u001b[0;34m)\u001b[0m\u001b[0;34m\u001b[0m\u001b[0;34m\u001b[0m\u001b[0m\n\u001b[0m\u001b[1;32m      2\u001b[0m \u001b[0;32mfor\u001b[0m \u001b[0mline\u001b[0m \u001b[0;32min\u001b[0m \u001b[0mf\u001b[0m\u001b[0;34m.\u001b[0m\u001b[0mread\u001b[0m\u001b[0;34m(\u001b[0m\u001b[0;34m)\u001b[0m\u001b[0;34m.\u001b[0m\u001b[0msplitlines\u001b[0m\u001b[0;34m(\u001b[0m\u001b[0;34m)\u001b[0m\u001b[0;34m:\u001b[0m\u001b[0;34m\u001b[0m\u001b[0;34m\u001b[0m\u001b[0m\n\u001b[1;32m      3\u001b[0m     \u001b[0;32mif\u001b[0m \u001b[0;34m\"jackson_4_2\"\u001b[0m \u001b[0;32min\u001b[0m \u001b[0mline\u001b[0m\u001b[0;34m:\u001b[0m\u001b[0;34m\u001b[0m\u001b[0;34m\u001b[0m\u001b[0m\n\u001b[1;32m      4\u001b[0m         \u001b[0mprint\u001b[0m\u001b[0;34m(\u001b[0m\u001b[0mline\u001b[0m\u001b[0;34m.\u001b[0m\u001b[0msplit\u001b[0m\u001b[0;34m(\u001b[0m\u001b[0;34m\" \"\u001b[0m\u001b[0;34m)\u001b[0m\u001b[0;34m[\u001b[0m\u001b[0;36m1\u001b[0m\u001b[0;34m]\u001b[0m\u001b[0;34m)\u001b[0m\u001b[0;34m\u001b[0m\u001b[0;34m\u001b[0m\u001b[0m\n\u001b[1;32m      5\u001b[0m         \u001b[0;32mbreak\u001b[0m\u001b[0;34m\u001b[0m\u001b[0;34m\u001b[0m\u001b[0m\n",
      "\u001b[0;31mFileNotFoundError\u001b[0m: [Errno 2] No such file or directory: 'exp/tri1/decode/log/decode.1.log'"
     ]
    }
   ],
   "source": [
    "f = open(\"exp/tri1/decode/log/decode.1.log\", \"r\")\n",
    "for line in f.read().splitlines():\n",
    "    if \"jackson_4_2\" in line:\n",
    "        print(line.split(\" \")[1])\n",
    "        break"
   ]
  },
  {
   "cell_type": "code",
   "execution_count": null,
   "metadata": {},
   "outputs": [],
   "source": []
  }
 ],
 "metadata": {
  "kernelspec": {
   "display_name": "Python 3",
   "language": "python",
   "name": "python3"
  },
  "language_info": {
   "codemirror_mode": {
    "name": "ipython",
    "version": 3
   },
   "file_extension": ".py",
   "mimetype": "text/x-python",
   "name": "python",
   "nbconvert_exporter": "python",
   "pygments_lexer": "ipython3",
   "version": "3.6.9"
  }
 },
 "nbformat": 4,
 "nbformat_minor": 4
}
